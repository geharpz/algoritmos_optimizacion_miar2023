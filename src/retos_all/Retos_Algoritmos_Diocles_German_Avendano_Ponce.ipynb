{
 "cells": [
  {
   "attachments": {},
   "cell_type": "markdown",
   "id": "5bae1ac7",
   "metadata": {},
   "source": [
    "<font color=\"#2f0aad\"><h1 align=\"left\">Algoritmos de optimización</h1></font>\n",
    "<font color=\"#2f0aad\"><h2 align=\"left\">Ejercicios y retos de la asignatura</h2></font> \n",
    "\n",
    "#### Profesor: Juan Francisco Vallalta Rueda\n",
    "\n",
    "Nombre: Diocles Germán Avendaño Ponce <br>\n",
    "URL: https://drive.google.com/file/d/1p1WgijBIPFX93KO0zJjwk9PuZP9PkhKv/view?usp=sharing\n",
    "\n",
    "GitHub:https://github.com/geharpz/algoritmos_optimizacion_miar2023/blob/main/src/AG1/Algoritmos_AG1_Diocles_German_Avendano_Ponce.ipynb"
   ]
  },
  {
   "attachments": {},
   "cell_type": "markdown",
   "id": "c43d5913",
   "metadata": {},
   "source": [
    "# Ejercicios VC 1\n",
    "\n",
    "## Implementa  el algoritmo de Euclides para el cálculo del máximo común divisor de dos números enteros"
   ]
  },
  {
   "cell_type": "code",
   "execution_count": 15,
   "id": "af0a8a64",
   "metadata": {},
   "outputs": [],
   "source": [
    "# Algoritmos de Euclides.\n",
    "# Definimos la función Euclides para el cálculo del máximo común divisor\n",
    "def mcd(n1, n2):\n",
    "    # Bucle while que se ejecuta mietras el restos sea diferente de 0\n",
    "    while n1 % n2 != 0:\n",
    "        # Asignación de las variables\n",
    "        n1, n2 = n2, n1 % n2\n",
    "    # Retonarmos el mcd de los 2 parametros\n",
    "    return n2\n"
   ]
  },
  {
   "cell_type": "code",
   "execution_count": 19,
   "id": "81bea47d",
   "metadata": {},
   "outputs": [
    {
     "name": "stdout",
     "output_type": "stream",
     "text": [
      "El máximo común divisor de 100 y  40 es: 20\n"
     ]
    }
   ],
   "source": [
    "# Prueba del algoritmo\n",
    "n1, n2 = 100, 40\n",
    "print(f\"El máximo común divisor de {n1} y  {n2} es: {mcd(n1, n2)}\")\n"
   ]
  },
  {
   "attachments": {},
   "cell_type": "markdown",
   "id": "fab2198d",
   "metadata": {},
   "source": [
    "## Implementa el algoritmo de Herón para el cálculo de la raiz cuadrada de un número entero. Calcula la raiz cuadrada de 13 con un error inferior a 0.000001"
   ]
  },
  {
   "cell_type": "code",
   "execution_count": 3,
   "id": "5108153f",
   "metadata": {},
   "outputs": [
    {
     "name": "stdout",
     "output_type": "stream",
     "text": [
      "La raíz cuadrada de 13 es aproximadamente 3.6055512754639905\n"
     ]
    }
   ],
   "source": [
    "# Algoritmo de Herón\n",
    "# Importamos la librería math\n",
    "import math\n",
    "\n",
    "def heron_square_root(number, error=0.000001):\n",
    "    if number < 0:\n",
    "        raise ValueError(\"El número debe ser positivo\")\n",
    "    \n",
    "    if number == 0:\n",
    "        return 0\n",
    "    \n",
    "    x = number\n",
    "    while True:\n",
    "        root_candidate = 0.5 * (x + number / x)\n",
    "        if abs(root_candidate - x) < error:\n",
    "            return root_candidate\n",
    "        x = root_candidate"
   ]
  },
  {
   "cell_type": "code",
   "execution_count": 4,
   "id": "32bfcfe8",
   "metadata": {},
   "outputs": [
    {
     "name": "stdout",
     "output_type": "stream",
     "text": [
      "Raíz cuadrada con algoritmo de Herón: 3.6055512754639905\n",
      "Raíz cuadrada con librería math sqrt: 3.605551275463989\n"
     ]
    }
   ],
   "source": [
    "# Prueba del algoritmo\n",
    "# Declaramos el valor de n a calcular la raíz\n",
    "n = 13\n",
    "# Ejemplo: Calcular la raíz cuadrada de 13 con un error inferior a 0.000001\n",
    "print(f\"Raíz cuadrada con algoritmo de Herón: {heron_square_root(n)}\")\n",
    "print(f\"Raíz cuadrada con librería math sqrt: {math.sqrt(n)}\")\n"
   ]
  },
  {
   "attachments": {},
   "cell_type": "markdown",
   "id": "2c46672f",
   "metadata": {},
   "source": [
    "# Ejercicios VC 2\n",
    "\n",
    "## Implementa  una solución para el problema del cambio de moneda en un sistema monetario con las siguientes monedas: {1, 2, 5, 10, 20 , 50}"
   ]
  },
  {
   "cell_type": "code",
   "execution_count": 8,
   "id": "36b68292",
   "metadata": {},
   "outputs": [],
   "source": [
    "# Problema de cambio de monedas\n",
    "# Se define la función calculate_money_exchange\n",
    "def calculate_money_exchange(amount):\n",
    "    # Se define las denominaciones de monedas a usar\n",
    "    denomination_list = [1, 2, 5, 10, 20 , 50]\n",
    "    # Se declara una lista para almacenar las monedas a usar para devolver el cambio\n",
    "    selected_coin = []\n",
    "    selected_index = []\n",
    "    # Se copia el valor del monto a devolver en monedas\n",
    "    aux_amount = amount\n",
    "    # Variable para controlar le monto que se va pagando\n",
    "    pay = 0\n",
    "    # index para recorrer la lista de nominaciones de monedas\n",
    "    index = len(denomination_list) - 1\n",
    "\n",
    "    while aux_amount > 0:\n",
    "        # Se Actualiza el valor pendiente por pagar\n",
    "        pay = aux_amount - denomination_list[index]\n",
    "        # Si la resta de lo faltante por pagar y la nominación actual de moneda no da un número negativo\n",
    "        if pay >=0:\n",
    "            # Se actualiza la variable auxiliar del valor pagado con lo faltante por pagar\n",
    "            aux_amount = pay\n",
    "            # Se agrega a la lista de monedas seleccionada la moneda utilizada para devoelver el cambio\n",
    "            selected_coin.append(denomination_list[index])\n",
    "            selected_index.append(index)\n",
    "        else:\n",
    "             # Si la resta entre lo faltante por pagar y la nominación de la moneda actual da un número negativo entonce se corre el índice a una moneda con menor nominación\n",
    "             index -=1\n",
    "    # Se retorna la lista de monedas usadas para devolver el cambio\n",
    "    return selected_coin, selected_index"
   ]
  },
  {
   "cell_type": "code",
   "execution_count": 9,
   "id": "94c5671e",
   "metadata": {},
   "outputs": [
    {
     "name": "stdout",
     "output_type": "stream",
     "text": [
      "Nominaciones de monedas usadas para devolver el cambio: [50, 20, 20, 2, 1]\n",
      "Indices de la nominaciones de monedas usadas para devolver el cambio: [5, 4, 4, 1, 0]\n"
     ]
    }
   ],
   "source": [
    "# Prueba del algoritmo\n",
    "# Se declara el cambio que debe devolverse\n",
    "money = 93\n",
    "selected_coin, selected_index = calculate_money_exchange(money)\n",
    "print(f\"Nominaciones de monedas usadas para devolver el cambio: {selected_coin}\")\n",
    "print(f\"Indices de la nominaciones de monedas usadas para devolver el cambio: {selected_index}\")"
   ]
  },
  {
   "attachments": {},
   "cell_type": "markdown",
   "id": "95d6953c",
   "metadata": {},
   "source": [
    "## VC-4 Descenso por gradiente"
   ]
  },
  {
   "attachments": {},
   "cell_type": "markdown",
   "id": "5d9578e7",
   "metadata": {},
   "source": [
    "## Ejercicio VC 4:\n",
    "+ 1. Considere un conjunto de 100 puntos de datos y explique el comportamiento del algoritmo.\n",
    "+ 2. ¿Cómo podríamos solucionar este comportamiento?"
   ]
  },
  {
   "attachments": {},
   "cell_type": "markdown",
   "id": "19fb834f",
   "metadata": {},
   "source": [
    "### Descenso de gradiente estocástico\n",
    "\n",
    "La última función evalúa la función objetivo $f_\\mathbf{w}$ con respecto a cada parámetro/característica en cada paso.\n",
    "\n",
    "Si el conjunto de datos es grande, esta estrategia es demasiado costosa. En este caso usaremos una estrategia llamada **SGD** (*Descenso de gradiente estocástico*). Consiste en reemplazar el gradiente real (calculado a partir de todo el conjunto de datos) por una estimación del mismo (calculado a partir de un subconjunto de datos seleccionado aleatoriamente).\n",
    "\n",
    "Luego, calculamos la estimación del gradiente (y nos movemos hacia el mínimo) usando solo **una muestra de datos** (o una pequeña muestra de datos). Encontramos el mínimo iterando esta estimación de gradiente sobre el conjunto de datos.\n",
    "\n",
    "Una iteración completa sobre el conjunto de datos se denomina **época**. Durante una época, los datos deben usarse en un orden aleatorio.\n",
    "\n",
    "Si aplicamos este método tenemos algunas garantías para encontrar el mínimo."
   ]
  },
  {
   "cell_type": "code",
   "execution_count": 44,
   "id": "daf2fb0f",
   "metadata": {},
   "outputs": [
    {
     "name": "stdout",
     "output_type": "stream",
     "text": [
      "9 18\n",
      "2 4\n",
      "3 6\n",
      "5 10\n",
      "7 14\n",
      "6 12\n",
      "4 8\n",
      "8 16\n",
      "1 2\n",
      "0 0\n"
     ]
    }
   ],
   "source": [
    "import numpy as np\n",
    "x = range(10)\n",
    "y = [2*i for i in x]\n",
    "data = list(zip(x,y))\n",
    "\n",
    "def in_random_order(data):\n",
    "    import random\n",
    "    indexes = [i for i,_ in enumerate(data)]\n",
    "    random.shuffle(indexes)\n",
    "    for i in indexes:\n",
    "        yield data[i]\n",
    "        \n",
    "for (x_i,y_i) in in_random_order(data):\n",
    "    print(x_i,y_i) "
   ]
  },
  {
   "cell_type": "code",
   "execution_count": 45,
   "id": "2aeaf67d",
   "metadata": {},
   "outputs": [],
   "source": [
    "def gradient_f_SGD(x,y,w):\n",
    "    import numpy as np\n",
    "    return 2*w*(np.array(x)**2) - 2*np.array(x)*np.array(y) #Note there is no sum of elements\n",
    "\n",
    "def SGD(target_f, gradient_f, x, y, alpha_0=0.001):\n",
    "    import numpy as np\n",
    "    import random\n",
    "    data = list(zip(x,y))\n",
    "    w = random.random()\n",
    "    alpha = alpha_0\n",
    "    min_w, min_val = float('inf'), float('inf')\n",
    "    iteration_no_increase = 0\n",
    "    alpha_vect = []\n",
    "    min_w_vect = []\n",
    "    while iteration_no_increase < 100: \n",
    "        val = sum(target_f(x_i, y_i, w) for x_i,y_i in data) # full iteration of the global error with updated w\n",
    "        if val < min_val: \n",
    "            # the global error gets lower with updated w\n",
    "            min_w, min_val = w, val\n",
    "            iteration_no_increase = 0\n",
    "            alpha = alpha_0\n",
    "        else:\n",
    "            # the global error is not improving -> decrease alpha temporarily (until out of possible local minima)\n",
    "            iteration_no_increase += 1\n",
    "            alpha *= 0.9 #decrease alpha\n",
    "        for x_i, y_i in in_random_order(data): \n",
    "            gradient_i = gradient_f(x_i, y_i, w)  #gradient evaluation at each point\n",
    "            w = np.array(w) - (alpha *  np.array(gradient_i)) # update w\n",
    "        min_w_vect.append(w)\n",
    "        alpha_vect.append(alpha)\n",
    "    return min_w_vect, alpha_vect"
   ]
  },
  {
   "cell_type": "code",
   "execution_count": 46,
   "id": "3d065f79",
   "metadata": {},
   "outputs": [
    {
     "name": "stdout",
     "output_type": "stream",
     "text": [
      "w=  [1.9999999999999996, 1.9999999999999996, 1.9999999999999996, 1.9999999999999996, 1.9999999999999996]\n"
     ]
    },
    {
     "data": {
      "image/png": "[encoded data removed]",
      "text/plain": [
       "<Figure size 640x480 with 1 Axes>"
      ]
     },
     "metadata": {},
     "output_type": "display_data"
    }
   ],
   "source": [
    "min_w_vect, alpha_vect = SGD(target_f, gradient_f_SGD, x, y, 0.001)\n",
    "print(\"w= \",min_w_vect[-5:])\n",
    "plt.plot(min_w_vect)\n",
    "plt.show()"
   ]
  },
  {
   "cell_type": "code",
   "execution_count": 47,
   "id": "5c45549e",
   "metadata": {},
   "outputs": [
    {
     "data": {
      "image/png": "[encoded data removed]",
      "text/plain": [
       "<Figure size 640x480 with 1 Axes>"
      ]
     },
     "metadata": {},
     "output_type": "display_data"
    }
   ],
   "source": [
    "plt.plot(alpha_vect)\n",
    "plt.show()"
   ]
  },
  {
   "attachments": {},
   "cell_type": "markdown",
   "id": "bf1d5aac",
   "metadata": {},
   "source": [
    "## Mini-batch Gradient Descent"
   ]
  },
  {
   "attachments": {},
   "cell_type": "markdown",
   "id": "b1a249db",
   "metadata": {},
   "source": [
    "En el código, el descenso general del gradiente por lotes se parece a esto:\n",
    "\n",
    "```python\n",
    "nb_epochs = 100\n",
    "for i in range(nb_epochs):\n",
    "    grad = evaluate_gradient(target_f, data, w)\n",
    "    w = w - learning_rate * grad\n",
    "```\n",
    "\n",
    "Para un número predefinido de épocas, primero calculamos el vector de gradiente de la función de destino para todo el conjunto de datos w.r.t. nuestro vector de parámetros.\n",
    "\n",
    "El descenso de gradiente estocástico (SGD), por el contrario, realiza una actualización de parámetros para cada ejemplo y etiqueta de entrenamiento:\n",
    "\n",
    "```python\n",
    "nb_epochs = 100\n",
    "for i in range(nb_epochs):\n",
    "    np.random.shuffle(data)\n",
    "    for example in data:\n",
    "        grad = evaluate_gradient(target_f, example, w)\n",
    "        w = w - learning_rate * grad\n",
    "```\n",
    "El descenso de gradiente de minilotes finalmente toma lo mejor de ambos mundos y realiza una actualización para cada minilote de $n$ ejemplos de entrenamiento:\n",
    "\n",
    "```python\n",
    "nb_epochs = 100\n",
    "for i in range(nb_epochs):\n",
    "  np.random.shuffle(data)\n",
    "  for batch in get_batches(data, batch_size=50):\n",
    "    grad = evaluate_gradient(target_f, batch, w)\n",
    "    w = w - learning_rate * grad\n",
    "```\n",
    "\n",
    "Minibatch SGD tiene la ventaja de que funciona con una estimación del gradiente ligeramente menos ruidosa. Sin embargo, a medida que aumenta el tamaño del minilote, el número de actualizaciones realizadas por cálculo realizado disminuye (eventualmente se vuelve muy ineficiente, como el descenso del gradiente del lote).\n",
    "\n",
    "Existe una compensación óptima (en términos de eficiencia computacional) que puede variar según la distribución de datos y las particularidades de la clase de función considerada, así como la forma en que se implementan los cálculos."
   ]
  },
  {
   "attachments": {},
   "cell_type": "markdown",
   "id": "f6c38070",
   "metadata": {},
   "source": [
    "## Descenso de gradiente y regresión lineal\n",
    "\n",
    "El modelo de regresión lineal asume una relación lineal entre los datos:\n",
    "\n",
    "$$ y_i = w_1 x_i + w_0 $$\n",
    "\n",
    "Generemos un conjunto de datos más realista (con ruido), donde $w_1 = 2$ y $w_0 = 0$:"
   ]
  },
  {
   "cell_type": "code",
   "execution_count": 48,
   "id": "10c9c752",
   "metadata": {},
   "outputs": [
    {
     "data": {
      "image/png": "[encoded data removed]",
      "text/plain": [
       "<Figure size 1000x600 with 1 Axes>"
      ]
     },
     "metadata": {},
     "output_type": "display_data"
    }
   ],
   "source": [
    "import numpy as np\n",
    "x = np.random.uniform(0,1,20)\n",
    "\n",
    "def f(x): return x*2\n",
    "\n",
    "noise_variance =0.2\n",
    "noise = np.random.randn(x.shape[0])*noise_variance\n",
    "y = f(x) + noise\n",
    "\n",
    "plt.plot(x, y, 'o', label='y')\n",
    "plt.plot([0, 1], [f(0), f(1)], 'b-', label='f(x)')\n",
    "plt.xlabel('$x$', fontsize=15)\n",
    "plt.ylabel('$y$', fontsize=15)\n",
    "plt.ylim([0,2])\n",
    "plt.title('inputs (x) vs targets (y)')\n",
    "plt.grid()\n",
    "plt.legend(loc=2)\n",
    "plt.gcf().set_size_inches((10,6))\n",
    "plt.show()"
   ]
  },
  {
   "cell_type": "code",
   "execution_count": 49,
   "id": "619b27f1",
   "metadata": {},
   "outputs": [
    {
     "data": {
      "image/png": "[encoded data removed]",
      "text/plain": [
       "<Figure size 1000x600 with 1 Axes>"
      ]
     },
     "metadata": {},
     "output_type": "display_data"
    }
   ],
   "source": [
    "# Our cost function\n",
    "def cost(y, t): return ((t - y)**2).sum()\n",
    "\n",
    "ws = np.linspace(0, 4, num=100)  \n",
    "cost_ws = np.zeros(ws.shape)\n",
    "for ind,w in enumerate(ws):\n",
    "    cost_ws[ind]=cost(x*w, y) \n",
    "    \n",
    "# Ploting the cost function for different values of w\n",
    "plt.plot(ws, cost_ws, 'r-')\n",
    "plt.xlabel('$w$', fontsize=15)\n",
    "plt.ylabel('Cost', fontsize=15)\n",
    "plt.title('Cost vs. $w$')\n",
    "plt.grid()\n",
    "plt.gcf().set_size_inches((10,6))\n",
    "plt.show()"
   ]
  },
  {
   "attachments": {},
   "cell_type": "markdown",
   "id": "c8f4ee29",
   "metadata": {},
   "source": [
    "# Reto VC-1\n",
    "\n",
    "## Implementa el algoritmo de la Criba de Erastótenes para encontrar número primos. Encuentra los números primos entre los 10.000 primeros números naturales"
   ]
  },
  {
   "cell_type": "code",
   "execution_count": 10,
   "id": "832a8188",
   "metadata": {},
   "outputs": [],
   "source": [
    "# Criba de Erastótenes\n",
    "# Se define función criba de Erastótenes\n",
    "def criba_eras(n):\n",
    "    # Se define una lista para almacenar los números primos\n",
    "    prime_list = []\n",
    "    # Se define una lista para almacenar los números no primos\n",
    "    no_prime_list = []\n",
    "    # Se define un for que va de 2 hasta n+1\n",
    "    for i in range(2, n + 1):\n",
    "\n",
    "        if i not in no_prime_list:\n",
    "            # Se agrega a la lista de primos aquellos números que no se encuentre en la lista de los no primos\n",
    "            prime_list.append(i)\n",
    "            # Se define un for que va desde i*i hasta n+1 con incrementos de valor de i\n",
    "            for j in range(i * i, n + 1, i):\n",
    "                # Se agrega a la lista de los no primos el valor actual de j\n",
    "                no_prime_list.append(j)\n",
    "   # Se retorna la lista de los números primos\n",
    "    return prime_list"
   ]
  },
  {
   "attachments": {},
   "cell_type": "markdown",
   "id": "e193b832",
   "metadata": {},
   "source": [
    "Implemetación de la función Criba de Erastótenes"
   ]
  },
  {
   "cell_type": "code",
   "execution_count": 11,
   "id": "dddf47fd",
   "metadata": {},
   "outputs": [
    {
     "name": "stdout",
     "output_type": "stream",
     "text": [
      "Números primos del 2 hasta: 10000:\n",
      "[2, 3, 5, 7, 11, 13, 17, 19, 23, 29, 31, 37, 41, 43, 47, 53, 59, 61, 67, 71, 73, 79, 83, 89, 97, 101, 103, 107, 109, 113, 127, 131, 137, 139, 149, 151, 157, 163, 167, 173, 179, 181, 191, 193, 197, 199, 211, 223, 227, 229, 233, 239, 241, 251, 257, 263, 269, 271, 277, 281, 283, 293, 307, 311, 313, 317, 331, 337, 347, 349, 353, 359, 367, 373, 379, 383, 389, 397, 401, 409, 419, 421, 431, 433, 439, 443, 449, 457, 461, 463, 467, 479, 487, 491, 499, 503, 509, 521, 523, 541, 547, 557, 563, 569, 571, 577, 587, 593, 599, 601, 607, 613, 617, 619, 631, 641, 643, 647, 653, 659, 661, 673, 677, 683, 691, 701, 709, 719, 727, 733, 739, 743, 751, 757, 761, 769, 773, 787, 797, 809, 811, 821, 823, 827, 829, 839, 853, 857, 859, 863, 877, 881, 883, 887, 907, 911, 919, 929, 937, 941, 947, 953, 967, 971, 977, 983, 991, 997, 1009, 1013, 1019, 1021, 1031, 1033, 1039, 1049, 1051, 1061, 1063, 1069, 1087, 1091, 1093, 1097, 1103, 1109, 1117, 1123, 1129, 1151, 1153, 1163, 1171, 1181, 1187, 1193, 1201, 1213, 1217, 1223, 1229, 1231, 1237, 1249, 1259, 1277, 1279, 1283, 1289, 1291, 1297, 1301, 1303, 1307, 1319, 1321, 1327, 1361, 1367, 1373, 1381, 1399, 1409, 1423, 1427, 1429, 1433, 1439, 1447, 1451, 1453, 1459, 1471, 1481, 1483, 1487, 1489, 1493, 1499, 1511, 1523, 1531, 1543, 1549, 1553, 1559, 1567, 1571, 1579, 1583, 1597, 1601, 1607, 1609, 1613, 1619, 1621, 1627, 1637, 1657, 1663, 1667, 1669, 1693, 1697, 1699, 1709, 1721, 1723, 1733, 1741, 1747, 1753, 1759, 1777, 1783, 1787, 1789, 1801, 1811, 1823, 1831, 1847, 1861, 1867, 1871, 1873, 1877, 1879, 1889, 1901, 1907, 1913, 1931, 1933, 1949, 1951, 1973, 1979, 1987, 1993, 1997, 1999, 2003, 2011, 2017, 2027, 2029, 2039, 2053, 2063, 2069, 2081, 2083, 2087, 2089, 2099, 2111, 2113, 2129, 2131, 2137, 2141, 2143, 2153, 2161, 2179, 2203, 2207, 2213, 2221, 2237, 2239, 2243, 2251, 2267, 2269, 2273, 2281, 2287, 2293, 2297, 2309, 2311, 2333, 2339, 2341, 2347, 2351, 2357, 2371, 2377, 2381, 2383, 2389, 2393, 2399, 2411, 2417, 2423, 2437, 2441, 2447, 2459, 2467, 2473, 2477, 2503, 2521, 2531, 2539, 2543, 2549, 2551, 2557, 2579, 2591, 2593, 2609, 2617, 2621, 2633, 2647, 2657, 2659, 2663, 2671, 2677, 2683, 2687, 2689, 2693, 2699, 2707, 2711, 2713, 2719, 2729, 2731, 2741, 2749, 2753, 2767, 2777, 2789, 2791, 2797, 2801, 2803, 2819, 2833, 2837, 2843, 2851, 2857, 2861, 2879, 2887, 2897, 2903, 2909, 2917, 2927, 2939, 2953, 2957, 2963, 2969, 2971, 2999, 3001, 3011, 3019, 3023, 3037, 3041, 3049, 3061, 3067, 3079, 3083, 3089, 3109, 3119, 3121, 3137, 3163, 3167, 3169, 3181, 3187, 3191, 3203, 3209, 3217, 3221, 3229, 3251, 3253, 3257, 3259, 3271, 3299, 3301, 3307, 3313, 3319, 3323, 3329, 3331, 3343, 3347, 3359, 3361, 3371, 3373, 3389, 3391, 3407, 3413, 3433, 3449, 3457, 3461, 3463, 3467, 3469, 3491, 3499, 3511, 3517, 3527, 3529, 3533, 3539, 3541, 3547, 3557, 3559, 3571, 3581, 3583, 3593, 3607, 3613, 3617, 3623, 3631, 3637, 3643, 3659, 3671, 3673, 3677, 3691, 3697, 3701, 3709, 3719, 3727, 3733, 3739, 3761, 3767, 3769, 3779, 3793, 3797, 3803, 3821, 3823, 3833, 3847, 3851, 3853, 3863, 3877, 3881, 3889, 3907, 3911, 3917, 3919, 3923, 3929, 3931, 3943, 3947, 3967, 3989, 4001, 4003, 4007, 4013, 4019, 4021, 4027, 4049, 4051, 4057, 4073, 4079, 4091, 4093, 4099, 4111, 4127, 4129, 4133, 4139, 4153, 4157, 4159, 4177, 4201, 4211, 4217, 4219, 4229, 4231, 4241, 4243, 4253, 4259, 4261, 4271, 4273, 4283, 4289, 4297, 4327, 4337, 4339, 4349, 4357, 4363, 4373, 4391, 4397, 4409, 4421, 4423, 4441, 4447, 4451, 4457, 4463, 4481, 4483, 4493, 4507, 4513, 4517, 4519, 4523, 4547, 4549, 4561, 4567, 4583, 4591, 4597, 4603, 4621, 4637, 4639, 4643, 4649, 4651, 4657, 4663, 4673, 4679, 4691, 4703, 4721, 4723, 4729, 4733, 4751, 4759, 4783, 4787, 4789, 4793, 4799, 4801, 4813, 4817, 4831, 4861, 4871, 4877, 4889, 4903, 4909, 4919, 4931, 4933, 4937, 4943, 4951, 4957, 4967, 4969, 4973, 4987, 4993, 4999, 5003, 5009, 5011, 5021, 5023, 5039, 5051, 5059, 5077, 5081, 5087, 5099, 5101, 5107, 5113, 5119, 5147, 5153, 5167, 5171, 5179, 5189, 5197, 5209, 5227, 5231, 5233, 5237, 5261, 5273, 5279, 5281, 5297, 5303, 5309, 5323, 5333, 5347, 5351, 5381, 5387, 5393, 5399, 5407, 5413, 5417, 5419, 5431, 5437, 5441, 5443, 5449, 5471, 5477, 5479, 5483, 5501, 5503, 5507, 5519, 5521, 5527, 5531, 5557, 5563, 5569, 5573, 5581, 5591, 5623, 5639, 5641, 5647, 5651, 5653, 5657, 5659, 5669, 5683, 5689, 5693, 5701, 5711, 5717, 5737, 5741, 5743, 5749, 5779, 5783, 5791, 5801, 5807, 5813, 5821, 5827, 5839, 5843, 5849, 5851, 5857, 5861, 5867, 5869, 5879, 5881, 5897, 5903, 5923, 5927, 5939, 5953, 5981, 5987, 6007, 6011, 6029, 6037, 6043, 6047, 6053, 6067, 6073, 6079, 6089, 6091, 6101, 6113, 6121, 6131, 6133, 6143, 6151, 6163, 6173, 6197, 6199, 6203, 6211, 6217, 6221, 6229, 6247, 6257, 6263, 6269, 6271, 6277, 6287, 6299, 6301, 6311, 6317, 6323, 6329, 6337, 6343, 6353, 6359, 6361, 6367, 6373, 6379, 6389, 6397, 6421, 6427, 6449, 6451, 6469, 6473, 6481, 6491, 6521, 6529, 6547, 6551, 6553, 6563, 6569, 6571, 6577, 6581, 6599, 6607, 6619, 6637, 6653, 6659, 6661, 6673, 6679, 6689, 6691, 6701, 6703, 6709, 6719, 6733, 6737, 6761, 6763, 6779, 6781, 6791, 6793, 6803, 6823, 6827, 6829, 6833, 6841, 6857, 6863, 6869, 6871, 6883, 6899, 6907, 6911, 6917, 6947, 6949, 6959, 6961, 6967, 6971, 6977, 6983, 6991, 6997, 7001, 7013, 7019, 7027, 7039, 7043, 7057, 7069, 7079, 7103, 7109, 7121, 7127, 7129, 7151, 7159, 7177, 7187, 7193, 7207, 7211, 7213, 7219, 7229, 7237, 7243, 7247, 7253, 7283, 7297, 7307, 7309, 7321, 7331, 7333, 7349, 7351, 7369, 7393, 7411, 7417, 7433, 7451, 7457, 7459, 7477, 7481, 7487, 7489, 7499, 7507, 7517, 7523, 7529, 7537, 7541, 7547, 7549, 7559, 7561, 7573, 7577, 7583, 7589, 7591, 7603, 7607, 7621, 7639, 7643, 7649, 7669, 7673, 7681, 7687, 7691, 7699, 7703, 7717, 7723, 7727, 7741, 7753, 7757, 7759, 7789, 7793, 7817, 7823, 7829, 7841, 7853, 7867, 7873, 7877, 7879, 7883, 7901, 7907, 7919, 7927, 7933, 7937, 7949, 7951, 7963, 7993, 8009, 8011, 8017, 8039, 8053, 8059, 8069, 8081, 8087, 8089, 8093, 8101, 8111, 8117, 8123, 8147, 8161, 8167, 8171, 8179, 8191, 8209, 8219, 8221, 8231, 8233, 8237, 8243, 8263, 8269, 8273, 8287, 8291, 8293, 8297, 8311, 8317, 8329, 8353, 8363, 8369, 8377, 8387, 8389, 8419, 8423, 8429, 8431, 8443, 8447, 8461, 8467, 8501, 8513, 8521, 8527, 8537, 8539, 8543, 8563, 8573, 8581, 8597, 8599, 8609, 8623, 8627, 8629, 8641, 8647, 8663, 8669, 8677, 8681, 8689, 8693, 8699, 8707, 8713, 8719, 8731, 8737, 8741, 8747, 8753, 8761, 8779, 8783, 8803, 8807, 8819, 8821, 8831, 8837, 8839, 8849, 8861, 8863, 8867, 8887, 8893, 8923, 8929, 8933, 8941, 8951, 8963, 8969, 8971, 8999, 9001, 9007, 9011, 9013, 9029, 9041, 9043, 9049, 9059, 9067, 9091, 9103, 9109, 9127, 9133, 9137, 9151, 9157, 9161, 9173, 9181, 9187, 9199, 9203, 9209, 9221, 9227, 9239, 9241, 9257, 9277, 9281, 9283, 9293, 9311, 9319, 9323, 9337, 9341, 9343, 9349, 9371, 9377, 9391, 9397, 9403, 9413, 9419, 9421, 9431, 9433, 9437, 9439, 9461, 9463, 9467, 9473, 9479, 9491, 9497, 9511, 9521, 9533, 9539, 9547, 9551, 9587, 9601, 9613, 9619, 9623, 9629, 9631, 9643, 9649, 9661, 9677, 9679, 9689, 9697, 9719, 9721, 9733, 9739, 9743, 9749, 9767, 9769, 9781, 9787, 9791, 9803, 9811, 9817, 9829, 9833, 9839, 9851, 9857, 9859, 9871, 9883, 9887, 9901, 9907, 9923, 9929, 9931, 9941, 9949, 9967, 9973]\n"
     ]
    }
   ],
   "source": [
    "# Variable que almacena el número especifico hats donde calcular los números primos\n",
    "n = 10000\n",
    "print(f\"Números primos del 2 hasta: {n}:\\n{criba_eras(n)}\")"
   ]
  },
  {
   "attachments": {},
   "cell_type": "markdown",
   "id": "3c0b310b",
   "metadata": {},
   "source": [
    "# Reto VC-2\n",
    "\n",
    "## Opción 1: Implementa una solución al problema de las 8 reinas en un tablero 8x8"
   ]
  },
  {
   "cell_type": "code",
   "execution_count": 12,
   "id": "a6111389",
   "metadata": {},
   "outputs": [],
   "source": [
    "# Ocho reinas\n",
    "# Escribe aquí tu código\n",
    "# Se importan librerías\n",
    "import matplotlib.pyplot as plt\n",
    "\n",
    "# Variable global para contar cuántas combitaciones de solución se procesan  \n",
    "count = 0\n",
    "# Se define función paint_graph_board para graficar el tablero con la solución de las 8 reinas\n",
    "def paint_graph_board(board):\n",
    "    global count\n",
    "    # Variable count aumenta en 1\n",
    "    count += 1\n",
    "    # Se imprime el número de combinación de solución actual\n",
    "    print(f\"Combination : #{count}\")\n",
    "    # For para pintar las líneas de tablero\n",
    "    for x in range(9):\n",
    "        plt.plot([0, 8],[x, x], color = 'blue')\n",
    "        plt.plot([x, x],[0, 8], color = 'blue')\n",
    "    # For para pintar las reinas en el tablero    \n",
    "    for x in range(8):\n",
    "        if board[x] != -1:\n",
    "            plt.plot([x+0.5],[board[x]+0.5], marker = \".\", markersize=50, color = 'black')\n",
    "    plt.show()\n",
    "\n",
    "\n",
    "# Se define función paint_graph_board para realizar la posibles combinaciones de solución de las 8 reinas    \n",
    "def add_queen(board, queen):\n",
    "    # Se setea en 0 la posición de la reina actual\n",
    "    board[queen] = 0\n",
    "    #\n",
    "    while board[queen] < 8:\n",
    "        # Se inicializa la variable correct en True\n",
    "        correct = True\n",
    "        # Se inicializa el index en 0\n",
    "        index = 0\n",
    "        # Bucle que controla el index hasta llegar a la reina actual correcta\n",
    "        while index < queen and correct:\n",
    "            # Valida si el indice actual esta en una posición errónea\n",
    "            if board[index] == board[queen] or abs(index-queen) == abs(board[index] - board[queen]):\n",
    "                # Se pone en false la variable correct\n",
    "                correct = False\n",
    "            # Índice aumenta en 1\n",
    "            index += 1\n",
    "        # Condición que verifica si el índice está en una posición correcta\n",
    "        if correct:\n",
    "            # Condición que verifica si ya se han encontrados las posiciones adecuadas para las 8 reinas\n",
    "            if queen == 7:\n",
    "                # Se pinta el tablero con una combinación correcta de reinas\n",
    "                paint_graph_board(board)\n",
    "            else:\n",
    "                # Se llama al método de forma recursiva\n",
    "                add_queen(board, queen+1)\n",
    "\n",
    "        # Se cambia de posición a la reina actual\n",
    "        board[queen] += 1"
   ]
  },
  {
   "cell_type": "code",
   "execution_count": null,
   "id": "ce8e96a4",
   "metadata": {},
   "outputs": [],
   "source": [
    "# Se inicializa una lista con 8 elementos con -1 \n",
    "board = [-1]*8\n",
    "# Se llama al método add_queen\n",
    "add_queen(board, 0)"
   ]
  },
  {
   "attachments": {},
   "cell_type": "markdown",
   "id": "2834218c",
   "metadata": {},
   "source": [
    "## Opción 2: Implementa una solución del problema de las Torres de Hanoi para un número arbitrario n de fichas"
   ]
  },
  {
   "cell_type": "code",
   "execution_count": 13,
   "id": "f9b4dad8",
   "metadata": {},
   "outputs": [],
   "source": [
    "# Torres de Hanoy\n",
    "# Escribe aquí tu código\n",
    "# Se define la función towers_hanoi\n",
    "def towers_hanoi(n, stick1, stick2, stick3):\n",
    "    # Se valida si n es 1 se imprime\n",
    "    if n == 1:\n",
    "        # Se imprime el valor de n el cual representa el disco actual y los palos del A al C\n",
    "        print(f\"------------ {n}, {stick1}, {stick2}, {stick3} ------------\")\n",
    "        # Se mueve el disco 1 del palo A al B\n",
    "        print(f\"Mueve el disco 1 de {stick1} a {stick2}\")\n",
    "         # Se imprime el valor de n el cual representa el disco actual y los palos del A al C\n",
    "        print(f\"------------ {n}, {stick1}, {stick2}, {stick3} ------------\")\n",
    "        # Se realiza un return\n",
    "        return\n",
    "     # Se imprime el valor de n el cual representa el disco actual y los palos del A al C\n",
    "    print(f\"------------ {n}, {stick1}, {stick2}, {stick3} ------------\")\n",
    "    # Se realiza una llamado recursivo de la función towers_hanoi\n",
    "    towers_hanoi(n-1, stick1, stick3, stick2)\n",
    "     # Se imprime el valor de n el cual representa el disco actual y los palos del A al C\n",
    "    print(f\"------------ {n}, {stick1}, {stick2}, {stick3} ------------\")\n",
    "    # Se mueve el disco actual del palo A al B\n",
    "    print(f\"Mueve el disco {n} de {stick1} a {stick2}\")\n",
    "     # Se imprime el valor de n el cual representa el disco actual y los palos del A al C\n",
    "    print(f\"------------ {n}, {stick1}, {stick2}, {stick3} ------------\")\n",
    "    # Se realiza una llamado recursivo de la función towers_hanoi\n",
    "    towers_hanoi(n-1, stick1, stick2, stick3)\n",
    "     # Se imprime el valor de n el cual representa el disco actual y los palos del A al C\n",
    "    print(f\"------------ {n}, {stick1}, {stick2}, {stick3} ------------\")"
   ]
  },
  {
   "cell_type": "code",
   "execution_count": 14,
   "id": "7b1ddee5",
   "metadata": {},
   "outputs": [
    {
     "name": "stdout",
     "output_type": "stream",
     "text": [
      "------------ 3, A, B, C ------------\n",
      "------------ 2, A, C, B ------------\n",
      "------------ 1, A, B, C ------------\n",
      "Mueve el disco 1 de A a B\n",
      "------------ 1, A, B, C ------------\n",
      "------------ 2, A, C, B ------------\n",
      "Mueve el disco 2 de A a C\n",
      "------------ 2, A, C, B ------------\n",
      "------------ 1, A, C, B ------------\n",
      "Mueve el disco 1 de A a C\n",
      "------------ 1, A, C, B ------------\n",
      "------------ 2, A, C, B ------------\n",
      "------------ 3, A, B, C ------------\n",
      "Mueve el disco 3 de A a B\n",
      "------------ 3, A, B, C ------------\n",
      "------------ 2, A, B, C ------------\n",
      "------------ 1, A, C, B ------------\n",
      "Mueve el disco 1 de A a C\n",
      "------------ 1, A, C, B ------------\n",
      "------------ 2, A, B, C ------------\n",
      "Mueve el disco 2 de A a B\n",
      "------------ 2, A, B, C ------------\n",
      "------------ 1, A, B, C ------------\n",
      "Mueve el disco 1 de A a B\n",
      "------------ 1, A, B, C ------------\n",
      "------------ 2, A, B, C ------------\n",
      "------------ 3, A, B, C ------------\n"
     ]
    }
   ],
   "source": [
    "# Se declara el valor de n el cual representa los disco\n",
    "n = 3\n",
    "# Se llama la función towers_hanoi\n",
    "towers_hanoi(n, 'A', 'B', 'C')"
   ]
  },
  {
   "attachments": {},
   "cell_type": "markdown",
   "id": "e6a75281",
   "metadata": {},
   "source": [
    "# Reto VC 4\n",
    "## Implemente el código del descenso por gradiente para la regresión lineal."
   ]
  },
  {
   "cell_type": "code",
   "execution_count": 42,
   "id": "6bd60886",
   "metadata": {},
   "outputs": [],
   "source": [
    "# Se importan librerías\n",
    "import numpy as np\n",
    "\n",
    "# Definición de método de Descenso de Gradiente para funciones de n variables.\n",
    "def gradiente_descendente(grad_f, x0, ratio_aprendizaje, tol, maxit):\n",
    "    x = x0\n",
    "    for iteraciones in range(maxit):\n",
    "        gradiente = grad_f(x)  # Se calcula el gradiente en el punto actual\n",
    "        if np.linalg.norm(gradiente, ord=2) < tol:\n",
    "            break\n",
    "        # Se actualiza el punto utilizando la regla del descenso de gradiente\n",
    "        x = x - ratio_aprendizaje * gradiente\n",
    "\n",
    "# Se retorna array con aproximación del punto x que cumple f'(x) ≈ 0 y el numero de iteraciones\n",
    "    return x, iteraciones\n",
    "\n",
    "# Función objetivo -> f(x) = x^4 + 2x^3 - 10x^2 + 5\n",
    "def f(x):\n",
    "    return x**4 + 2*x**3 - 10*x**2 + 5\n",
    "\n",
    "# Gradiente de la función objetivo, calcula el gradiente de una función en un punto dado utilizando diferencias finitas.\n",
    "def grad_f(x):\n",
    "    return np.array([4*x[0]**3 + 6*x[0]**2 - 20*x[0]])"
   ]
  },
  {
   "cell_type": "code",
   "execution_count": 50,
   "id": "98b0c2da",
   "metadata": {},
   "outputs": [
    {
     "name": "stdout",
     "output_type": "stream",
     "text": [
      "Aproximación de la solución: 1.6084952830141837\n",
      "Número de iteraciones: 991\n"
     ]
    }
   ],
   "source": [
    "# Parámetros de entrada\n",
    "x0 = np.array([3])\n",
    "# Tasa de aprendizaje\n",
    "ratio_aprendizaje = 0.001\n",
    "# Tolerancia para finalizar el proceso\n",
    "tol = 1e-12\n",
    "# Número máximo de iteraciones\n",
    "maxit = int(1e5)\n",
    "\n",
    "# Se llama al método de descenso de gradiente\n",
    "approx_solution, iteraciones = gradiente_descendente(grad_f, x0, ratio_aprendizaje, tol, maxit)\n",
    "\n",
    "# Se imprime la solución aproximada\n",
    "print(f\"Aproximación de la solución: {approx_solution[0]}\")\n",
    "# Se imprime el número de iteraciones efectuadas\n",
    "print(f\"Número de iteraciones: {iteraciones}\")"
   ]
  },
  {
   "attachments": {},
   "cell_type": "markdown",
   "id": "9cd74815",
   "metadata": {},
   "source": [
    "# Reto VC 5\n",
    "## Optimización de la función $$f(x)=sin(1/2 * x^2 - 1/4 * y^2 + 3) * cos(2*x + 1 - e^y)$$"
   ]
  },
  {
   "cell_type": "code",
   "execution_count": 64,
   "id": "d6e95dbd",
   "metadata": {},
   "outputs": [],
   "source": [
    "import math\n",
    "# Definimos la función a optimizar\n",
    "def f(x, y):\n",
    "    return math.sin(1/2 * x**2 - 1/4 * y**2 + 3) * math.cos(2 * x + 1 - math.exp(y))\n",
    "\n",
    "# Definimos la función de descenso por gradiente \n",
    "def gradient_descent(f, x, y, learning_rate=0.01, max_iters=1000, tol=1e-6):\n",
    "    # f: función a optimizar\n",
    "    # x, y: valores iniciales para las variables\n",
    "    # learning_rate: tasa de aprendizaje\n",
    "    # max_iters: número máximo de iteraciones\n",
    "    # tol: tolerancia para la convergencia\n",
    "\n",
    "    for i in range(max_iters):\n",
    "        # Calcular el gradiente de la función en el punto actual\n",
    "        df_dx = math.cos(1/2 * x**2 - 1/4 * y**2 + 3) * x * math.sin(2 * x + 1 - math.exp(y)) * 2\n",
    "        df_dy = -math.cos(1/2 * x**2 - 1/4 * y**2 + 3) * y / 2 * math.sin(2 * x + 1 - math.exp(y)) * math.exp(y)\n",
    "        gradient = (df_dx, df_dy)\n",
    "\n",
    "        # Actualizar las variables\n",
    "        x_new = x - learning_rate * gradient[0]\n",
    "        y_new = y - learning_rate * gradient[1]\n",
    "\n",
    "        # Comprobar la convergencia\n",
    "        if abs(f(x_new, y_new) - f(x, y)) < tol:\n",
    "            break\n",
    "        # Actualizar las variables\n",
    "        x, y = x_new, y_new\n",
    "\n",
    "    return x, y"
   ]
  },
  {
   "cell_type": "code",
   "execution_count": 62,
   "id": "7a57ec8e",
   "metadata": {},
   "outputs": [
    {
     "name": "stdout",
     "output_type": "stream",
     "text": [
      "Mínimo local encontrado en x = 1.9131816434176026, y = 0.6866324652324391: 0.9546714401126345\n"
     ]
    }
   ],
   "source": [
    "# Obtenemos el resultado del la función descenso por gradiente\n",
    "x_min, y_min = gradient_descent(f, 1, 1)\n",
    "print(\"Mínimo local encontrado en x = {}, y = {}: {}\".format(x_min, y_min, f(x_min, y_min)))"
   ]
  }
 ],
 "metadata": {
  "kernelspec": {
   "display_name": "Python 3 (ipykernel)",
   "language": "python",
   "name": "python3"
  },
  "language_info": {
   "codemirror_mode": {
    "name": "ipython",
    "version": 3
   },
   "file_extension": ".py",
   "mimetype": "text/x-python",
   "name": "python",
   "nbconvert_exporter": "python",
   "pygments_lexer": "ipython3",
   "version": "3.10.9"
  }
 },
 "nbformat": 4,
 "nbformat_minor": 5
}
