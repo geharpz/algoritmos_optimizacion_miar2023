{
  "nbformat": 4,
  "nbformat_minor": 0,
  "metadata": {
    "colab": {
      "provenance": [],
      "include_colab_link": true
    },
    "kernelspec": {
      "name": "python3",
      "display_name": "Python 3"
    }
  },
  "cells": [
    {
      "cell_type": "markdown",
      "metadata": {
        "id": "view-in-github",
        "colab_type": "text"
      },
      "source": [
        "<a href=\"https://colab.research.google.com/github/geharpz/algoritmos_optimizacion_miar2023/blob/seminario/src/seminario/Seminario_Algoritmos_Diocles_German_Avendano_Ponce.ipynb\" target=\"_parent\"><img src=\"https://colab.research.google.com/assets/colab-badge.svg\" alt=\"Open In Colab\"/></a>"
      ]
    },
    {
      "cell_type": "markdown",
      "metadata": {
        "id": "hVbXYX-RfPWh"
      },
      "source": [
        "# Algoritmos de optimización - Seminario<br>\n",
        "Nombre y Apellidos:Diocles Germán Avendaño Ponce <br>\n",
        "Url: https://github.com/.../03MAIR---Algoritmos-de-Optimizacion---2019/tree/master/SEMINARIO<br>\n",
        "Problema:\n",
        "> 1. Sesiones de doblaje <br>\n",
        ">2. Organizar los horarios de partidos de La Liga<br>\n",
        ">3. Combinar cifras y operaciones\n",
        "\n",
        "Descripción del problema:(copiar enunciado)\n",
        "\n",
        "....\n",
        "\n",
        "(*) La respuesta es obligatoria\n",
        "\n",
        "\n",
        "\n",
        "\n",
        "\n",
        "                                        "
      ]
    },
    {
      "cell_type": "code",
      "metadata": {
        "id": "AiskKkzZfy4e"
      },
      "source": [],
      "execution_count": null,
      "outputs": []
    },
    {
      "cell_type": "markdown",
      "metadata": {
        "id": "3_-exlrTgLd-"
      },
      "source": [
        "(*)¿Cuantas posibilidades hay sin tener en cuenta las restricciones?<br>\n",
        "\n",
        "\n",
        "\n",
        "¿Cuantas posibilidades hay teniendo en cuenta todas las restricciones.\n",
        "\n",
        "\n"
      ]
    },
    {
      "cell_type": "markdown",
      "metadata": {
        "id": "WfCUqJyKhPcw"
      },
      "source": [
        "Respuesta"
      ]
    },
    {
      "cell_type": "code",
      "metadata": {
        "id": "iq6Fe32MgpDX"
      },
      "source": [],
      "execution_count": null,
      "outputs": []
    },
    {
      "cell_type": "markdown",
      "metadata": {
        "id": "dzynfVJahHoY"
      },
      "source": [
        "Modelo para el espacio de soluciones<br>\n",
        "(*) ¿Cual es la estructura de datos que mejor se adapta al problema? Argumentalo.(Es posible que hayas elegido una al principio y veas la necesidad de cambiar, arguentalo)\n"
      ]
    },
    {
      "cell_type": "markdown",
      "metadata": {
        "id": "xFIJrOwKi2Ti"
      },
      "source": [
        "Respuesta"
      ]
    },
    {
      "cell_type": "code",
      "metadata": {
        "id": "38c-7-ejhJmA"
      },
      "source": [],
      "execution_count": null,
      "outputs": []
    },
    {
      "cell_type": "markdown",
      "metadata": {
        "id": "7Z9U2W7bi-XS"
      },
      "source": [
        "Según el modelo para el espacio de soluciones<br>\n",
        "(*)¿Cual es la función objetivo?\n",
        "\n",
        "(*)¿Es un problema de maximización o minimización?"
      ]
    },
    {
      "cell_type": "markdown",
      "metadata": {
        "id": "hBalWLM7j1_d"
      },
      "source": [
        "Respuesta"
      ]
    },
    {
      "cell_type": "code",
      "metadata": {
        "id": "pDA-rg3Gj5Lz"
      },
      "source": [],
      "execution_count": null,
      "outputs": []
    },
    {
      "cell_type": "markdown",
      "metadata": {
        "id": "rlnTYgY1j6I2"
      },
      "source": [
        "Diseña un algoritmo para resolver el problema por fuerza bruta"
      ]
    },
    {
      "cell_type": "markdown",
      "metadata": {
        "id": "70rDgxYXkC8r"
      },
      "source": [
        "Respuesta"
      ]
    },
    {
      "cell_type": "code",
      "metadata": {
        "id": "CJb5sQ0qkENy"
      },
      "source": [],
      "execution_count": null,
      "outputs": []
    },
    {
      "cell_type": "markdown",
      "metadata": {
        "id": "tgrnsC2nkFa8"
      },
      "source": [
        "Calcula la complejidad del algoritmo por fuerza bruta"
      ]
    },
    {
      "cell_type": "markdown",
      "metadata": {
        "id": "9eUd3xwckP68"
      },
      "source": [
        "Respuesta"
      ]
    },
    {
      "cell_type": "code",
      "metadata": {
        "id": "rvZWwL-ckRST"
      },
      "source": [],
      "execution_count": null,
      "outputs": []
    },
    {
      "cell_type": "markdown",
      "metadata": {
        "id": "txbrmLmskReM"
      },
      "source": [
        "(*)Diseña un algoritmo que mejore la complejidad del algortimo por fuerza bruta. Argumenta porque crees que mejora el algoritmo por fuerza bruta"
      ]
    },
    {
      "cell_type": "markdown",
      "metadata": {
        "id": "hLrVwt5QkZPD"
      },
      "source": [
        "Respuesta"
      ]
    },
    {
      "cell_type": "code",
      "metadata": {
        "id": "m1eyM21Vkabg"
      },
      "source": [],
      "execution_count": null,
      "outputs": []
    },
    {
      "cell_type": "markdown",
      "metadata": {
        "id": "eGDB4K6uk1iN"
      },
      "source": [
        "(*)Calcula la complejidad del algoritmo"
      ]
    },
    {
      "cell_type": "markdown",
      "metadata": {
        "id": "NhpTh_BPk1ms"
      },
      "source": [
        "Respuesta"
      ]
    },
    {
      "cell_type": "code",
      "metadata": {
        "id": "nREzhkStlCq8"
      },
      "source": [],
      "execution_count": null,
      "outputs": []
    },
    {
      "cell_type": "markdown",
      "metadata": {
        "id": "3M6QjTsSkmYe"
      },
      "source": [
        "Según el problema (y tenga sentido), diseña un juego de datos de entrada aleatorios"
      ]
    },
    {
      "cell_type": "markdown",
      "metadata": {
        "id": "Jc3_OlyNkvjZ"
      },
      "source": [
        "Respuesta"
      ]
    },
    {
      "cell_type": "code",
      "metadata": {
        "id": "sJ-N2etjkyWc"
      },
      "source": [],
      "execution_count": null,
      "outputs": []
    },
    {
      "cell_type": "markdown",
      "metadata": {
        "id": "zy5ZROmjlGo1"
      },
      "source": [
        "Aplica el algoritmo al juego de datos generado"
      ]
    },
    {
      "cell_type": "markdown",
      "metadata": {
        "id": "_Cmj-PVylMsa"
      },
      "source": [
        "Respuesta"
      ]
    },
    {
      "cell_type": "code",
      "metadata": {
        "id": "Jkx8GeiYlUz1"
      },
      "source": [],
      "execution_count": null,
      "outputs": []
    },
    {
      "cell_type": "markdown",
      "metadata": {
        "id": "eTFWUJQrtGcv"
      },
      "source": [
        "Enumera las referencias que has utilizado(si ha sido necesario) para llevar a cabo el trabajo"
      ]
    },
    {
      "cell_type": "markdown",
      "metadata": {
        "id": "YKQ_mRBttWsP"
      },
      "source": [
        "Respuesta"
      ]
    },
    {
      "cell_type": "markdown",
      "metadata": {
        "id": "kAkDPUyRtYyH"
      },
      "source": [
        "Describe brevemente las lineas de como crees que es posible avanzar en el estudio del problema. Ten en cuenta incluso posibles variaciones del problema y/o variaciones al alza del tamaño"
      ]
    },
    {
      "cell_type": "markdown",
      "metadata": {
        "id": "IE0uZmo-tZu-"
      },
      "source": [
        "Respuesta"
      ]
    },
    {
      "cell_type": "code",
      "source": [
        "# Se importan librerías\n",
        "from itertools import permutations, product\n",
        "import random\n",
        "\n",
        "# Se define función combinar cifras operaciones\n",
        "def combinar_cifras_operaciones(valor_objetivo, cifras, operaciones, longitud_cifras):\n",
        "    # Se genera todas las permutaciones posibles de las cifras\n",
        "    cifras_permutadas = permutations(cifras, longitud_cifras)\n",
        "\n",
        "    # Se define variable de iteraciones inicializada en 0\n",
        "    iteraciones=0\n",
        "    # Se recorre cada una de las combinaciones de la cifras\n",
        "    for cifra_permutada in cifras_permutadas:\n",
        "    # Se reordena la lista de operaciones de forma aleatoria\n",
        "      operaciones_aleatorias = sorted(operaciones , key=lambda y: random.randint(0, len(operaciones)))\n",
        "      # Se inicializa la variable para almacenar la expresión actual\n",
        "      expresion = \"\"\n",
        "      # Se recorre la lista de operaciones aleatorias\n",
        "      for indice, operacion in enumerate(operaciones_aleatorias):\n",
        "        # Se agrega la operacion actual con la cifra correspondiente a la posición del índice de la tupla\n",
        "        expresion += f\"{cifra_permutada[indice]}{operacion}\"\n",
        "      # Se agrega la última cifra de la tupla\n",
        "      expresion += str(cifra_permutada[-1])\n",
        "      # Se encierra en un try el segmento de código de validación de la expresión para capturar posibles excepciones\n",
        "      try:\n",
        "        # Se almacena el resultado de la expresión procesada\n",
        "        resultado = eval(expresion)\n",
        "        # Se incrementa la variable iteraciones en 1\n",
        "        iteraciones+=1\n",
        "        # Se valida si el resultado de expresión procesada es igual al valor objetivo\n",
        "        if resultado == valor_objetivo:\n",
        "          # Se retorna la expresión que cumpla la validación anterior y el número de iteraciones\n",
        "          return f\"{expresion} = {valor_objetivo}\", iteraciones\n",
        "      # Se captura excepción por división de 0\n",
        "      except ZeroDivisionError:\n",
        "        # Se imprime la expresión no válida\n",
        "        print(f\"Expresión no válida: {expresion}\")\n",
        "\n",
        "         # Se retorna un String y el número de iteraciones\n",
        "    return \"No fue posible obtener el valor deseado.\", iteraciones"
      ],
      "metadata": {
        "id": "yP2YnWjopDRb"
      },
      "execution_count": 49,
      "outputs": []
    },
    {
      "cell_type": "code",
      "source": [
        "# Ejemplo de uso\n",
        "# Se declara la cifras a procesar\n",
        "cifras = [1, 2, 3, 4, 5, 6, 7, 8, 9]\n",
        "# Se declara las operaciones a procesar\n",
        "operaciones = ['+', '-', '*', '/']\n",
        "# Se define la longitud de la cifras a procesar por expresión\n",
        "longitud_cifras = len(operaciones)+1\n",
        "# Valor objetivo a calcular con la expresión\n",
        "valor_objetivo = 8\n",
        "# Se almacena el resultado de la función combinar_cifras_operaciones\n",
        "resultado = combinar_cifras_operaciones(valor_objetivo, cifras, operaciones, longitud_cifras)\n",
        "# Se imprime la expresión resultado\n",
        "print(f\"Expresión: {resultado[0]}\")\n",
        "# Se imprime número de iteraciones\n",
        "print(f\"Número de iteraciones: {resultado[1]}\")"
      ],
      "metadata": {
        "colab": {
          "base_uri": "https://localhost:8080/"
        },
        "id": "vy9ikaajQadX",
        "outputId": "9a69f7bb-f787-4544-e705-558771fa4cf7"
      },
      "execution_count": 50,
      "outputs": [
        {
          "output_type": "stream",
          "name": "stdout",
          "text": [
            "Expresión: 1*2+8-6/3 = 8\n",
            "Número de iteraciones: 166\n"
          ]
        }
      ]
    }
  ]
}