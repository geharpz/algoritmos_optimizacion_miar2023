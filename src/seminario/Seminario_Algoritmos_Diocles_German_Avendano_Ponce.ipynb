{
  "cells": [
    {
      "attachments": {},
      "cell_type": "markdown",
      "metadata": {
        "colab_type": "text",
        "id": "view-in-github"
      },
      "source": [
        "<a href=\"https://colab.research.google.com/github/geharpz/algoritmos_optimizacion_miar2023/blob/seminario/src/seminario/Seminario_Algoritmos_Diocles_German_Avendano_Ponce.ipynb\" target=\"_parent\"><img src=\"https://colab.research.google.com/assets/colab-badge.svg\" alt=\"Open In Colab\"/></a>"
      ]
    },
    {
      "attachments": {},
      "cell_type": "markdown",
      "metadata": {
        "id": "hVbXYX-RfPWh"
      },
      "source": [
        "# Algoritmos de optimización - Seminario<br>\n",
        "Nombre y Apellidos: Diocles Germán Avendaño Ponce <br>\n",
        "Url: https://github.com/.../03MAIR---Algoritmos-de-Optimizacion---2019/tree/master/SEMINARIO<br>\n",
        "Problema:\n",
        "> 1. Sesiones de doblaje <br>\n",
        "\n",
        "Descripción del problema:<br>\n",
        "\n",
        "Se precisa coordinar el doblaje de una película. Los actores del doblaje deben coincidir en las\n",
        "tomas en las que sus personajes aparecen juntos en las diferentes tomas. Los actores de\n",
        "doblaje cobran todos la misma cantidad por cada día que deben desplazarse hasta el estudio de\n",
        "grabación independientemente del número de tomas que se graben. No es posible grabar más\n",
        "de 6 tomas por día. El objetivo es planificar las sesiones por día de manera que el gasto por los\n",
        "servicios de los actores de doblaje sea el menor posible\n",
        "\n",
        "(*) La respuesta es obligatoria\n",
        "\n",
        "\n",
        "\n",
        "\n",
        "\n",
        "                                        "
      ]
    },
    {
      "attachments": {},
      "cell_type": "markdown",
      "metadata": {
        "id": "3_-exlrTgLd-"
      },
      "source": [
        "### 1 ¿Cuantas posibilidades hay sin tener en cuenta las restricciones?(*)<br>\n",
        "\n",
        "\n",
        "\n",
        "¿Cuantas posibilidades hay teniendo en cuenta todas las restricciones.\n",
        "\n",
        "\n"
      ]
    },
    {
      "attachments": {},
      "cell_type": "markdown",
      "metadata": {
        "id": "WfCUqJyKhPcw"
      },
      "source": [
        "<b>Respuesta</b>"
      ]
    },
    {
      "attachments": {},
      "cell_type": "markdown",
      "metadata": {
        "id": "iq6Fe32MgpDX"
      },
      "source": [
        "\n",
        "1. Dada la pregunta y de acorde al problema de coordinación de doblaje, podemos hacer las 30 tomas en un día, siempre y cuando cada toma no dure más de 48 minutos, con respecto a los actores pueden aparecer en cualquier toma, entonces tenemos 30 toma por 10 actores los cuales pueden o no aparecer en la tomas eso nos deja 2 posibilidades. Por tanto $30 \\times 10 = 300$ y dos posibles valores con respecto a los actores de $(0, 1)$ <br>\n",
        "Para responder a la pregunta \"<b>¿Cuántas posibilidades hay sin tener en cuenta las restricciones?</b>\", podemos calcular la posibilidades osea $x$ usando una permutación sin repetición donde el orden importa.<br>\n",
        "Cuya fórmula viene dada por: x = $n!*m!$<br>\n",
        "Donde:<br>\n",
        "$n = 300$ -> representa el número de tomas por el número de actores<br>\n",
        "$m = 2$ -> representa el los valores de si aparece o no el actor en la toma<br><br>\n",
        "Reemplazando tenemos:<br>\n",
        "$x = 300! \\times 2! $<br>\n",
        "$x = ?$<br\n",
        "\n",
        "En este caso realizando la operación en la calculadora nos arroja un error porque el número es demasiado grande para poder realizar el cálculo.\n",
        "Podemos hacer otras combinaciones, como hacer 5, 10, 20, etc. Tomas por día, pero se considera que no tiene relevancia realizarla, ya que no se podría efectuar el cálculo, debido a la longitud de las cifras que resultan de dicho cálculo.\n",
        "\n",
        "2. Dada las restricciones del problema de coordinación de doblaje, de las 30 tomas, se puede realizar máximo 6 tomas por día y los actores deben coincidir en las tomas en que su personajes aparecen, se decidió hacer dicho máximo de tomas permitido por día, osea 6 tomas durante 5 días, para minimizar el costo debemos encontrar el orden idóneo en el cual hacer las tomas.<br>\n",
        "Para responder a la pregunta \"<b>¿Cuántas posibilidades hay teniendo en cuenta todas las restricciones?</b>\", podemos calcular la posibilidades osea $x$ usando una permutación sin repetición donde el orden importa.<br>\n",
        "Cuya fórmula viene dada por: x = $n!*m!$<br>\n",
        "Donde:<br>\n",
        "$n = 30$ -> representa el número de tomas<br>\n",
        "$m = 6$ -> representa el número máximo de tomas por días<br><br>\n",
        "Reemplazando tenemos:<br>\n",
        "$x = 30! \\times 6! $<br>\n",
        "$x = 1909820591\\times{10}^{35}$<br>\n",
        "\n",
        "Por lo tanto la respuesta es $1909820591\\times{10}^{35}$ posibilidades con las restricciones del problema de coordinación de doblaje"
      ]
    },
    {
      "attachments": {},
      "cell_type": "markdown",
      "metadata": {
        "id": "dzynfVJahHoY"
      },
      "source": [
        "Modelo para el espacio de soluciones<br>\n",
        "(*) ¿Cual es la estructura de datos que mejor se adapta al problema? Argumentalo.(Es posible que hayas elegido una al principio y veas la necesidad de cambiar, arguentalo)\n"
      ]
    },
    {
      "attachments": {},
      "cell_type": "markdown",
      "metadata": {
        "id": "xFIJrOwKi2Ti"
      },
      "source": [
        "<b>Respuesta</b>"
      ]
    },
    {
      "attachments": {},
      "cell_type": "markdown",
      "metadata": {
        "id": "38c-7-ejhJmA"
      },
      "source": [
        "- Para el problema de coordinación de doblaje se decidió usar un array NumPy, dado a que los valores eran binarios (Enteros ya que se agregó como columna 0 el número de las tomas  al array) y al buen rendimiento que caracteriza a esta librería, los datos son cargados de un CSV el cual contiene 30 filas y 11 columnas, la columna 0 representan el número de cada tomas y las columna del 1 al 10 representan los actores, posteriormente es convertido en un array NumPy.\n",
        "- Para mostrar los datos de forma tabulada y con una visualización más clara y entendible, se convierte en un DataFrame de Pandas el array NumPy, donde como ya se mencionó anteriormente las filas vienen a representar las tomas y las columnas los actores, los cuales se identifican fácilmente en el DataFrame."
      ]
    },
    {
      "attachments": {},
      "cell_type": "markdown",
      "metadata": {
        "id": "7Z9U2W7bi-XS"
      },
      "source": [
        "Según el modelo para el espacio de soluciones<br>\n",
        "(*)¿Cual es la función objetivo?\n",
        "\n",
        "(*)¿Es un problema de maximización o minimización?"
      ]
    },
    {
      "attachments": {},
      "cell_type": "markdown",
      "metadata": {
        "id": "hBalWLM7j1_d"
      },
      "source": [
        "<b>Respuesta</b>"
      ]
    },
    {
      "attachments": {},
      "cell_type": "markdown",
      "metadata": {
        "id": "pDA-rg3Gj5Lz"
      },
      "source": [
        "1. Dada la naturaleza del problema de coordinación de doblaje, donde se busca que el gasto por los servicios de los actores sea el menor posible (minimizar), se puede inferir que se trata de un problema de programación lineal.<br>\n",
        "\n",
        "La <b>función objetivo</b> viene dada por<br>\n",
        "$$X = \\displaystyle\\sum_{i=1}^n A_{i}\\times C $$\n",
        "Donde:<br>\n",
        "- $X =$ Es el valor incógnito del gasto menor posible por los servicios de los actores<br>\n",
        "- $n = 5$-> el cual es el número de días considerando 6 tomas por día<br>\n",
        "- $A =$ representa el número de actores por día<br>\n",
        "- $C = 1$ -> Es una constante el cual representa el valor que cobran los actores por día\n",
        "\n",
        "2. En cuanto a la pregunta \"<b>¿Es un problema de maximización o minimización?</b>\", esto se responde con lo anterior expuesto, el problema es de minimización, ya que se busca que los gastos por servicios prestado de los actores en la tomas sea el menor posible."
      ]
    },
    {
      "attachments": {},
      "cell_type": "markdown",
      "metadata": {},
      "source": [
        "### Librerías "
      ]
    },
    {
      "cell_type": "code",
      "execution_count": null,
      "metadata": {},
      "outputs": [],
      "source": [
        "# Liberias\n",
        "import random\n",
        "import math\n",
        "import numpy as np\n",
        "import pandas as pd\n",
        "import os\n",
        "import itertools\n",
        "# Importacion de datos\n",
        "csv_path = os.path.join('Dataset', 'problema_doblaje.csv')\n",
        "# Se carga el archivo en un DataFrame\n",
        "dubbing_data = pd.read_csv(csv_path, header=None, sep=',')\n",
        "\n",
        "np_takes = dubbing_data.to_numpy()"
      ]
    },
    {
      "attachments": {},
      "cell_type": "markdown",
      "metadata": {},
      "source": [
        "### Funciones generales"
      ]
    },
    {
      "cell_type": "code",
      "execution_count": null,
      "metadata": {},
      "outputs": [],
      "source": [
        "def cost(takes):\n",
        "    total_cost = 0\n",
        "    step = 6\n",
        "    start = 0\n",
        "    end = step\n",
        "    days = int(len(takes)/6)\n",
        "    aux_day_cost = np.zeros(shape=days)\n",
        "    for i in range(days):\n",
        "        day_session = takes[start:end, 1:len(takes[0])]\n",
        "        for actor in range(len(day_session[0])):\n",
        "            current_value = 1 if day_session[:, actor].sum() > 0 else 0\n",
        "            aux_day_cost[i] += current_value\n",
        "            total_cost += current_value\n",
        "\n",
        "        start += step\n",
        "        end += step\n",
        "    return total_cost, aux_day_cost\n",
        "    \n",
        "def build_index_table(size, name):\n",
        "    list_index = [\"Takes\"]\n",
        "    for i in range(size):\n",
        "        list_index.append(f\"{name}{i+1}\")\n",
        "    return list_index\n"
      ]
    },
    {
      "attachments": {},
      "cell_type": "markdown",
      "metadata": {
        "id": "rlnTYgY1j6I2"
      },
      "source": [
        "Diseña un algoritmo para resolver el problema por fuerza bruta"
      ]
    },
    {
      "attachments": {},
      "cell_type": "markdown",
      "metadata": {
        "id": "70rDgxYXkC8r"
      },
      "source": [
        "<b>Respuesta</b>"
      ]
    },
    {
      "cell_type": "code",
      "execution_count": null,
      "metadata": {
        "id": "CJb5sQ0qkENy"
      },
      "outputs": [],
      "source": [
        "def brute_force(takes):\n",
        "    days=int(len(takes)/6)\n",
        "    count=1\n",
        "    print(f\"Se realizaron 6 tomas por día. Días totales: {days}\")\n",
        "    for i in itertools.permutations(range(30)):\n",
        "        best_cost, day_cost = cost(takes[i,:])\n",
        "        print(f\"\\nCosto total de las {int(len(takes))} tomas: {best_cost} para la permutación: {count}\")\n",
        "        count+=1\n",
        "        df_solution=pd.DataFrame(data=np_takes[i,:], columns=build_index_table(10, \"Actor \")).set_index('Takes')\n",
        "        step = 6\n",
        "        start = 0\n",
        "        end = step\n",
        "        print(f\"Tomas por día:\")\n",
        "\n",
        "        for j in range(days):\n",
        "            print(f\"\\nDía: {j+1} costo: {day_cost[j]}\")\n",
        "            display(df_solution.iloc[start:end, :])\n",
        "            start += step\n",
        "            end += step"
      ]
    },
    {
      "cell_type": "code",
      "execution_count": null,
      "metadata": {
        "id": "rvZWwL-ckRST"
      },
      "outputs": [],
      "source": [
        "brute_force(np_takes)"
      ]
    },
    {
      "attachments": {},
      "cell_type": "markdown",
      "metadata": {
        "id": "tgrnsC2nkFa8"
      },
      "source": [
        "Calcula la complejidad del algoritmo por fuerza bruta"
      ]
    },
    {
      "attachments": {},
      "cell_type": "markdown",
      "metadata": {
        "id": "9eUd3xwckP68"
      },
      "source": [
        "<b>Respuesta</b>"
      ]
    },
    {
      "attachments": {},
      "cell_type": "markdown",
      "metadata": {},
      "source": []
    },
    {
      "attachments": {},
      "cell_type": "markdown",
      "metadata": {
        "id": "txbrmLmskReM"
      },
      "source": [
        "(*)Diseña un algoritmo que mejore la complejidad del algortimo por fuerza bruta. Argumenta porque crees que mejora el algoritmo por fuerza bruta"
      ]
    },
    {
      "attachments": {},
      "cell_type": "markdown",
      "metadata": {
        "id": "hLrVwt5QkZPD"
      },
      "source": [
        "<b>Respuesta</b>"
      ]
    },
    {
      "cell_type": "code",
      "execution_count": null,
      "metadata": {
        "id": "m1eyM21Vkabg"
      },
      "outputs": [],
      "source": [
        "def lower_temp(temperature, cool_factor):\n",
        "    return temperature*cool_factor\n",
        "\n",
        "def keep_temperature(p, n):\n",
        "    return len(p)*n\n",
        "\n",
        "def generate_random_neighbor(takes):\n",
        "    \"\"\"\n",
        "    Genera un vecino aleatorio cambiando una toma de un día aleatorio.\n",
        "    \"\"\"\n",
        "    new_takes = np.copy(takes)\n",
        "\n",
        "    # Crear una lista con los índices de las filas\n",
        "    row_indexs = list(range(new_takes.shape[0]))\n",
        "    # Mezclar los índices de las filas de forma aleatoria\n",
        "    np.random.shuffle(row_indexs)\n",
        "\n",
        "    # Intercambiar las filas utilizando los índices mezclados\n",
        "    return new_takes[row_indexs, :]\n",
        "\n",
        "\n",
        "def initial_temperature(cost):\n",
        "    return cost*0.4\n",
        "\n",
        "\n",
        "def acceptance_requirements(cost, temperature):\n",
        "    return random.random() < math.exp(-1*cost / temperature)\n",
        "\n",
        "\n",
        "def simulated_annealing(session, tf, cool_factor):\n",
        "    day_cost = np.zeros(shape=5)\n",
        "    best_session = np.copy(session)\n",
        "    best_cost, day_cost = cost(best_session)\n",
        "    t = initial_temperature(best_cost)\n",
        "    it = 0\n",
        "    while t >= tf:\n",
        "        it += 1\n",
        "        for _ in range(keep_temperature(best_session, 1)):\n",
        "\n",
        "            neighbor = generate_random_neighbor(best_session)\n",
        "            new_cost, new_day_cost = cost(neighbor)\n",
        "            difference_cost = new_cost - best_cost\n",
        "            if difference_cost < 0 or acceptance_requirements(difference_cost, t):\n",
        "                best_session = np.copy(neighbor)\n",
        "                best_cost = new_cost\n",
        "                day_cost = new_day_cost\n",
        "        t = lower_temp(t, cool_factor)\n",
        "\n",
        "    return best_session, best_cost, it, day_cost"
      ]
    },
    {
      "cell_type": "code",
      "execution_count": null,
      "metadata": {},
      "outputs": [],
      "source": [
        "solution = simulated_annealing(np_takes, .00001, .85)\n",
        "df_solution = pd.DataFrame(data=solution[0], columns=build_index_table(10, \"Actor \")).set_index('Takes')\n",
        "days=int(len(np_takes)/6)\n",
        "step = 6\n",
        "start = 0\n",
        "end = step\n",
        "print(f\"Se realizaron 6 tomas por día. Días totales: {days}\")\n",
        "print(f\"\\nCosto total de las {int(len(np_takes))} tomas: {solution[1]} \")\n",
        "print(f\"Número de iteraciones: {solution[2]}\")\n",
        "print(f\"Tomas por día:\")\n",
        "\n",
        "\n",
        "for i in range(days):\n",
        "    print(f\"\\nDía: {i+1} costo: {solution[3][i]}\")\n",
        "    display(df_solution.iloc[start:end, :])\n",
        "    start += step\n",
        "    end += step"
      ]
    },
    {
      "attachments": {},
      "cell_type": "markdown",
      "metadata": {
        "id": "eGDB4K6uk1iN"
      },
      "source": [
        "(*)Calcula la complejidad del algoritmo"
      ]
    },
    {
      "attachments": {},
      "cell_type": "markdown",
      "metadata": {
        "id": "NhpTh_BPk1ms"
      },
      "source": [
        "<b>Respuesta</b>"
      ]
    },
    {
      "attachments": {},
      "cell_type": "markdown",
      "metadata": {
        "id": "nREzhkStlCq8"
      },
      "source": [
        "El algoritmo de recocido simulado implementado para el problema de coordinacion de doblaje tiene la siguiente complejidad:<br>\n",
        "\n",
        "\n"
      ]
    },
    {
      "attachments": {},
      "cell_type": "markdown",
      "metadata": {
        "id": "3M6QjTsSkmYe"
      },
      "source": [
        "Según el problema (y tenga sentido), diseña un juego de datos de entrada aleatorios"
      ]
    },
    {
      "attachments": {},
      "cell_type": "markdown",
      "metadata": {
        "id": "Jc3_OlyNkvjZ"
      },
      "source": [
        "<b>Respuesta</b>"
      ]
    },
    {
      "cell_type": "code",
      "execution_count": null,
      "metadata": {
        "id": "sJ-N2etjkyWc"
      },
      "outputs": [],
      "source": [
        "np_random = np.random.randint(2, size=(30, 10))\n",
        "np_index =  np.arange(1,31,1, dtype=int).reshape(1,30)\n",
        "np_random = np.insert(np_random,0,np_index, axis= 1)\n",
        "\n",
        "print(np_random)"
      ]
    },
    {
      "attachments": {},
      "cell_type": "markdown",
      "metadata": {
        "id": "zy5ZROmjlGo1"
      },
      "source": [
        "Aplica el algoritmo al juego de datos generado"
      ]
    },
    {
      "attachments": {},
      "cell_type": "markdown",
      "metadata": {
        "id": "_Cmj-PVylMsa"
      },
      "source": [
        "Respuesta"
      ]
    },
    {
      "cell_type": "code",
      "execution_count": null,
      "metadata": {
        "id": "Jkx8GeiYlUz1"
      },
      "outputs": [],
      "source": [
        "solution = simulated_annealing(np_random, .00001, .85)\n",
        "df_solution = pd.DataFrame(data=solution[0], columns=build_index_table(10, \"Actor \")).set_index('Takes')\n",
        "days=int(len(np_takes)/6)\n",
        "step = 6\n",
        "start = 0\n",
        "end = step\n",
        "print(f\"Se realizaron 6 tomas por día. Días totales: {days}\")\n",
        "print(f\"\\nCosto total de las {int(len(np_random))} tomas: {solution[1]} \")\n",
        "print(f\"Número de iteraciones: {solution[2]}\")\n",
        "print(f\"Tomas por día:\")\n",
        "\n",
        "\n",
        "for i in range(days):\n",
        "    print(f\"\\nDía: {i+1} costo: {solution[3][i]}\")\n",
        "    display(df_solution.iloc[start:end, :])\n",
        "    start += step\n",
        "    end += step"
      ]
    },
    {
      "attachments": {},
      "cell_type": "markdown",
      "metadata": {
        "id": "eTFWUJQrtGcv"
      },
      "source": [
        "Enumera las referencias que has utilizado(si ha sido necesario) para llevar a cabo el trabajo"
      ]
    },
    {
      "attachments": {},
      "cell_type": "markdown",
      "metadata": {
        "id": "YKQ_mRBttWsP"
      },
      "source": [
        "Respuesta"
      ]
    },
    {
      "attachments": {},
      "cell_type": "markdown",
      "metadata": {
        "id": "kAkDPUyRtYyH"
      },
      "source": [
        "Describe brevemente las lineas de como crees que es posible avanzar en el estudio del problema. Ten en cuenta incluso posibles variaciones del problema y/o variaciones al alza del tamaño"
      ]
    },
    {
      "attachments": {},
      "cell_type": "markdown",
      "metadata": {
        "id": "IE0uZmo-tZu-"
      },
      "source": [
        "Respuesta"
      ]
    },
    {
      "cell_type": "code",
      "execution_count": null,
      "metadata": {},
      "outputs": [],
      "source": [
        "\n"
      ]
    }
  ],
  "metadata": {
    "colab": {
      "include_colab_link": true,
      "provenance": []
    },
    "kernelspec": {
      "display_name": "Python 3",
      "name": "python3"
    },
    "language_info": {
      "codemirror_mode": {
        "name": "ipython",
        "version": 3
      },
      "file_extension": ".py",
      "mimetype": "text/x-python",
      "name": "python",
      "nbconvert_exporter": "python",
      "pygments_lexer": "ipython3",
      "version": "3.10.9"
    }
  },
  "nbformat": 4,
  "nbformat_minor": 0
}
