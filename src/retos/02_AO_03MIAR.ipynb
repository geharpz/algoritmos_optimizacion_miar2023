{
 "cells": [
  {
   "attachments": {},
   "cell_type": "markdown",
   "id": "5bae1ac7",
   "metadata": {},
   "source": [
    "<font color=\"#002856\"><h1 align=\"left\">Algoritmos de optimización</h1></font>\n",
    "<font color=\"#002856\"><h2 align=\"left\">VC-2 Diseño de algoritmos</h2></font> \n",
    "\n",
    "#### Profesor: Juan Francisco Vallalta Rueda\n",
    "---"
   ]
  },
  {
   "attachments": {},
   "cell_type": "markdown",
   "id": "d6a8c0a8",
   "metadata": {},
   "source": [
    "# Medir el tiempo de ejecución"
   ]
  },
  {
   "attachments": {},
   "cell_type": "markdown",
   "id": "e37d9b38",
   "metadata": {},
   "source": [
    "Medir el tiempo de ejecución de un programa es una tarea muy importante, ya que programar no sólo consiste en crear código que funcione, sino código que pueda ser ejecutado en un tiempo razonable.\n",
    "\n",
    "La librería **time** nos permite medir el tiempo de ejecución en Python, utilizando el método  `time()`."
   ]
  },
  {
   "cell_type": "code",
   "execution_count": 1,
   "id": "dc20e4d2",
   "metadata": {},
   "outputs": [
    {
     "name": "stdout",
     "output_type": "stream",
     "text": [
      "10.002641201019287\n"
     ]
    }
   ],
   "source": [
    "# Medida del tiempo de ejecucion con time\n",
    "import time\n",
    "inicio = time.time()\n",
    "\n",
    "# Código a medir\n",
    "time.sleep(10)\n",
    "# -------------\n",
    "\n",
    "fin = time.time()\n",
    "print(fin-inicio) # 1.0005340576171875"
   ]
  },
  {
   "attachments": {},
   "cell_type": "markdown",
   "id": "52b5fc0a",
   "metadata": {},
   "source": [
    "# Generación de números enteros aleatorios "
   ]
  },
  {
   "cell_type": "code",
   "execution_count": 6,
   "id": "ca5148de",
   "metadata": {},
   "outputs": [
    {
     "name": "stdout",
     "output_type": "stream",
     "text": [
      "[695, 385, 928, 730, 82, 906, 416, 429, 707, 59, 556, 643, 489, 851, 385, 940, 465, 515, 942, 745, 219, 305, 8, 943, 218, 371, 483, 174, 136, 257, 482, 94, 385, 201, 530, 522, 460, 204, 882, 754, 24, 341, 576, 946, 97, 758, 491, 270, 746, 12, 652, 158, 483, 623, 710, 665, 856, 935, 963, 342, 247, 890, 673, 143, 54, 905, 868, 522, 1, 248, 690, 720, 363, 878, 567, 586, 593, 901, 574, 835, 853, 915, 188, 937, 489, 182, 228, 948, 247, 291, 223, 602, 741, 761, 199, 691, 72, 718, 965, 583]\n"
     ]
    }
   ],
   "source": [
    "# Mödulo random\n",
    "import random\n",
    "\n",
    "# Inicialización del rango de números a generar\n",
    "inicio= 0\n",
    "fin = 1000\n",
    "cantidad = 100\n",
    "\n",
    "# Lista de números aleatorios\n",
    "numeros_aleatorios = [random.randint(inicio,fin) for i in range(cantidad)]\n",
    "print(numeros_aleatorios)"
   ]
  },
  {
   "attachments": {},
   "cell_type": "markdown",
   "id": "c43d5913",
   "metadata": {},
   "source": [
    "# Ejercicios\n",
    "\n",
    "## Implementa  una solución para el problema del cambio de moneda en un sistema monetario con las siguientes monedas: {1, 2, 5, 10, 20 , 50}"
   ]
  },
  {
   "cell_type": "code",
   "execution_count": 17,
   "id": "af0a8a64",
   "metadata": {},
   "outputs": [],
   "source": [
    "# Problema de cambio de monedas\n",
    "# Se define la función calculate_money_exchange\n",
    "def calculate_money_exchange(amount):\n",
    "    # Se define las denominaciones de monedas a usar\n",
    "    denomination_list = [1, 2, 5, 10, 20 , 50]\n",
    "    # Se declara una lista para almacenar las monedas a usar para devolver el cambio\n",
    "    selected_coin = []\n",
    "    # Se copia el valor del monto a devolver en monedas\n",
    "    aux_amount = amount\n",
    "    # Variable para controlar le monto que se va pagando\n",
    "    pay = 0\n",
    "    # index para recorrer la lista de nominaciones de monedas\n",
    "    index = len(denomination_list) - 1\n",
    "\n",
    "    while aux_amount > 0:\n",
    "        # Se Actualiza el valor pendiente por pagar\n",
    "        pay = aux_amount - denomination_list[index]\n",
    "        # Si la resta de lo faltante por pagar y la nominación actual de moneda no da un número negativo\n",
    "        if pay >=0:\n",
    "            # Se actualiza la variable auxiliar del valor pagado con lo faltante por pagar\n",
    "            aux_amount = pay\n",
    "            # Se agrega a la lista de monedas seleccionada la moneda utilizada para devoelver el cambio\n",
    "            selected_coin.append(denomination_list[index])\n",
    "        else:\n",
    "             # Si la resta entre lo faltante por pagar y la nominación de la moneda actual da un número negativo entonce se corre el índice a una moneda con menor nominación\n",
    "             index -=1\n",
    "    # Se retorna la lista de monedas usadas para devolver el cambio\n",
    "    return selected_coin"
   ]
  },
  {
   "cell_type": "code",
   "execution_count": 18,
   "id": "2bdc447b",
   "metadata": {},
   "outputs": [
    {
     "name": "stdout",
     "output_type": "stream",
     "text": [
      "Nominaciones de monedas usadas para devolver el cambio: [50, 20, 20, 2, 1]\n"
     ]
    }
   ],
   "source": [
    "# Prueba del algoritmo\n",
    "# Se declara el cambio que debe devolverse\n",
    "money = 93\n",
    "\n",
    "print(f\"Nominaciones de monedas usadas para devolver el cambio: {calculate_money_exchange(money)}\")"
   ]
  },
  {
   "attachments": {},
   "cell_type": "markdown",
   "id": "9cbf8561",
   "metadata": {},
   "source": [
    "# Reto VC-2\n",
    "\n",
    "## Opción 1: Implementa una solución al problema de las 8 reinas en un tablero 8x8"
   ]
  },
  {
   "cell_type": "code",
   "execution_count": null,
   "id": "288b5db6",
   "metadata": {},
   "outputs": [],
   "source": [
    "# Ocho reinas\n",
    "# Escribe aquí tu código\n",
    "    \n",
    "    \n",
    "    "
   ]
  },
  {
   "attachments": {},
   "cell_type": "markdown",
   "id": "e0069a3c",
   "metadata": {},
   "source": [
    "## Opción 2: Implementa una solución del problema de las Torres de Hanoi para un número arbitrario n de fichas"
   ]
  },
  {
   "cell_type": "code",
   "execution_count": 2,
   "id": "f55c9247",
   "metadata": {},
   "outputs": [],
   "source": [
    "# Torres de Hanoy\n",
    "# Escribe aquí tu código\n",
    "\n",
    "\n"
   ]
  }
 ],
 "metadata": {
  "kernelspec": {
   "display_name": "Python 3 (ipykernel)",
   "language": "python",
   "name": "python3"
  },
  "language_info": {
   "codemirror_mode": {
    "name": "ipython",
    "version": 3
   },
   "file_extension": ".py",
   "mimetype": "text/x-python",
   "name": "python",
   "nbconvert_exporter": "python",
   "pygments_lexer": "ipython3",
   "version": "3.10.9"
  }
 },
 "nbformat": 4,
 "nbformat_minor": 5
}
