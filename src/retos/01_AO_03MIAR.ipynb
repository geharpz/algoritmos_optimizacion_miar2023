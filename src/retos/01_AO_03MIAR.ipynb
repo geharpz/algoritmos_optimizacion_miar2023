{
 "cells": [
  {
   "attachments": {},
   "cell_type": "markdown",
   "id": "5bae1ac7",
   "metadata": {},
   "source": [
    "<font color=\"#002856\"><h1 align=\"left\">Algoritmos de optimización</h1></font>\n",
    "<font color=\"#002856\"><h2 align=\"left\">VC-1 Introducción a los algoritmos</h2></font> \n",
    "\n",
    "#### Profesor: Juan Francisco Vallalta Rueda\n",
    "---"
   ]
  },
  {
   "attachments": {},
   "cell_type": "markdown",
   "id": "d6a8c0a8",
   "metadata": {},
   "source": [
    "# Medir el tiempo de ejecución"
   ]
  },
  {
   "attachments": {},
   "cell_type": "markdown",
   "id": "e37d9b38",
   "metadata": {},
   "source": [
    "Medir el tiempo de ejecución de un programa es una tarea muy importante, ya que programar no sólo consiste en crear código que funcione, sino código que pueda ser ejecutado en un tiempo razonable.\n",
    "\n",
    "La librería **time** nos permite medir el tiempo de ejecución en Python, utilizando el método  `time()`."
   ]
  },
  {
   "cell_type": "code",
   "execution_count": 1,
   "id": "dc20e4d2",
   "metadata": {},
   "outputs": [
    {
     "name": "stdout",
     "output_type": "stream",
     "text": [
      "10.002641201019287\n"
     ]
    }
   ],
   "source": [
    "# Medida del tiempo de ejecucion con time\n",
    "import time\n",
    "inicio = time.time()\n",
    "\n",
    "# Código a medir\n",
    "time.sleep(10)\n",
    "# -------------\n",
    "\n",
    "fin = time.time()\n",
    "print(fin-inicio)  # 1.0005340576171875\n"
   ]
  },
  {
   "attachments": {},
   "cell_type": "markdown",
   "id": "52b5fc0a",
   "metadata": {},
   "source": [
    "# Generación de números enteros aleatorios "
   ]
  },
  {
   "cell_type": "code",
   "execution_count": 6,
   "id": "ca5148de",
   "metadata": {},
   "outputs": [
    {
     "name": "stdout",
     "output_type": "stream",
     "text": [
      "[695, 385, 928, 730, 82, 906, 416, 429, 707, 59, 556, 643, 489, 851, 385, 940, 465, 515, 942, 745, 219, 305, 8, 943, 218, 371, 483, 174, 136, 257, 482, 94, 385, 201, 530, 522, 460, 204, 882, 754, 24, 341, 576, 946, 97, 758, 491, 270, 746, 12, 652, 158, 483, 623, 710, 665, 856, 935, 963, 342, 247, 890, 673, 143, 54, 905, 868, 522, 1, 248, 690, 720, 363, 878, 567, 586, 593, 901, 574, 835, 853, 915, 188, 937, 489, 182, 228, 948, 247, 291, 223, 602, 741, 761, 199, 691, 72, 718, 965, 583]\n"
     ]
    }
   ],
   "source": [
    "# Mödulo random\n",
    "import random\n",
    "\n",
    "# Inicialización del rango de números a generar\n",
    "inicio = 0\n",
    "fin = 1000\n",
    "cantidad = 100\n",
    "\n",
    "# Lista de números aleatorios\n",
    "numeros_aleatorios = [random.randint(inicio, fin) for i in range(cantidad)]\n",
    "print(numeros_aleatorios)\n"
   ]
  },
  {
   "attachments": {},
   "cell_type": "markdown",
   "id": "c43d5913",
   "metadata": {},
   "source": [
    "# Ejercicios\n",
    "\n",
    "## Implementa  el algoritmo de Euclides para el cálculo del máximo común divisor de dos números enteros"
   ]
  },
  {
   "cell_type": "code",
   "execution_count": 15,
   "id": "af0a8a64",
   "metadata": {},
   "outputs": [],
   "source": [
    "# Algoritmos de Euclides.\n",
    "# Definimos la función Euclides para el cálculo del máximo común divisor\n",
    "def mcd(n1, n2):\n",
    "    # Bucle while que se ejecuta mietras el restos sea diferente de 0\n",
    "    while n1 % n2 != 0:\n",
    "        # Asignación de las variables\n",
    "        n1, n2 = n2, n1 % n2\n",
    "    # Retonarmos el mcd de los 2 parametros\n",
    "    return n2\n"
   ]
  },
  {
   "cell_type": "code",
   "execution_count": 19,
   "id": "81bea47d",
   "metadata": {},
   "outputs": [
    {
     "name": "stdout",
     "output_type": "stream",
     "text": [
      "El máximo común divisor de 100 y  40 es: 20\n"
     ]
    }
   ],
   "source": [
    "# Prueba del algoritmo\n",
    "n1, n2 = 100, 40\n",
    "print(f\"El máximo común divisor de {n1} y  {n2} es: {mcd(n1, n2)}\")\n"
   ]
  },
  {
   "attachments": {},
   "cell_type": "markdown",
   "id": "fab2198d",
   "metadata": {},
   "source": [
    "## Implementa el algoritmo de Herón para el cálculo de la raiz cuadrada de un número entero. Calcula la raiz cuadrada de 13 con un error inferior a 0.000001"
   ]
  },
  {
   "cell_type": "code",
   "execution_count": 27,
   "id": "5108153f",
   "metadata": {},
   "outputs": [],
   "source": [
    "# Algoritmo de Herón\n",
    "# Importamos la librería math\n",
    "import math\n",
    "\n",
    "# Definimos la función sqrt_heron\n",
    "def sqrt_heron(n):\n",
    "    #Definimos un número donde partir\n",
    "    x = n / 2\n",
    "    # Bucle\n",
    "    while True:\n",
    "        # Verificamos si el valor actual de x es igual a valor de n, ose la raíz cuadrada\n",
    "        if x * x == n:\n",
    "            # Retomamos el valor de x\n",
    "            return x\n",
    "        else:\n",
    "            # Variable auxiliar para evitar estancamiento\n",
    "            aux = x\n",
    "            # Seteamos nuevo valor de x\n",
    "            x = (x + (n/x)) / 2\n",
    "        # Verificamos si el cálculo actual de x es igual al anterior para salir del bucle\n",
    "        if x == aux:\n",
    "            break\n",
    "    # Retomamos el valor de x\n",
    "    return x"
   ]
  },
  {
   "cell_type": "code",
   "execution_count": 28,
   "id": "32bfcfe8",
   "metadata": {},
   "outputs": [
    {
     "name": "stdout",
     "output_type": "stream",
     "text": [
      "Raíz cuadrada con algoritmo de Herón: 14.142135623730951\n",
      "Raíz cuadrada con librería math sqrt: 14.142135623730951\n"
     ]
    }
   ],
   "source": [
    "# Prueba del algoritmo\n",
    "# Declaramos el valor de n a calcular la raíz\n",
    "n = 13\n",
    "print(f\"Raíz cuadrada con algoritmo de Herón: {sqrt_heron(n)}\")\n",
    "print(f\"Raíz cuadrada con librería math sqrt: {math.sqrt(n)}\")\n"
   ]
  },
  {
   "attachments": {},
   "cell_type": "markdown",
   "id": "9cbf8561",
   "metadata": {},
   "source": [
    "# Reto VC-1\n",
    "\n",
    "## Implementa el algoritmo de la Criba de Erastótenes para encontrar número primos. Encuentra los números primos entre los 10.000 primeros números naturales"
   ]
  },
  {
   "cell_type": "code",
   "execution_count": 9,
   "id": "288b5db6",
   "metadata": {},
   "outputs": [
    {
     "name": "stdout",
     "output_type": "stream",
     "text": [
      "Números primos del 2 hasta: 120:\n",
      "[2, 3, 5, 7, 11, 13, 17, 19, 23, 29, 31, 37, 41, 43, 47, 53, 59, 61, 67, 71, 73, 79, 83, 89, 97, 101, 103, 107, 109, 113]\n"
     ]
    }
   ],
   "source": [
    "# Criba de Erastótenes\n",
    "# Se define función criba de Erastótenes\n",
    "def criba_eras(n):\n",
    "    # Se define una lista para almacenar los números primos\n",
    "    prime_list = []\n",
    "    # Se define una lista para almacenar los números no primos\n",
    "    no_prime_list = []\n",
    "    # Se define un for que va de 2 hasta n+1\n",
    "    for i in range(2, n + 1):\n",
    "\n",
    "        if i not in no_prime_list:\n",
    "            # Se agrega a la lista de primos aquellos números que no se encuentre en la lista de los no primos\n",
    "            prime_list.append(i)\n",
    "            # Se define un for que va desde i*i hasta n+1 con incrementos de valor de i\n",
    "            for j in range(i * i, n + 1, i):\n",
    "                # Se agrega a la lista de los no primos el valor actual de j\n",
    "                no_prime_list.append(j)\n",
    "   # Se retorna la lista de los números primos\n",
    "    return prime_list\n"
   ]
  },
  {
   "attachments": {},
   "cell_type": "markdown",
   "id": "85b2d4e8",
   "metadata": {},
   "source": [
    "Implemetación de la función Criba de Erastótenes"
   ]
  },
  {
   "cell_type": "code",
   "execution_count": 20,
   "id": "e1e18ac5",
   "metadata": {},
   "outputs": [
    {
     "name": "stdout",
     "output_type": "stream",
     "text": [
      "Números primos del 2 hasta: 157:\n",
      "[2, 3, 5, 7, 11, 13, 17, 19, 23, 29, 31, 37, 41, 43, 47, 53, 59, 61, 67, 71, 73, 79, 83, 89, 97, 101, 103, 107, 109, 113, 127, 131, 137, 139, 149, 151, 157]\n"
     ]
    }
   ],
   "source": [
    "\n",
    "# Variable que almacena el número especifico hats donde calcular los números primos\n",
    "n = 157\n",
    "print(f\"Números primos del 2 hasta: {n}:\\n{criba_eras(n)}\")\n"
   ]
  }
 ],
 "metadata": {
  "kernelspec": {
   "display_name": "Python 3 (ipykernel)",
   "language": "python",
   "name": "python3"
  },
  "language_info": {
   "codemirror_mode": {
    "name": "ipython",
    "version": 3
   },
   "file_extension": ".py",
   "mimetype": "text/x-python",
   "name": "python",
   "nbconvert_exporter": "python",
   "pygments_lexer": "ipython3",
   "version": "3.10.9"
  }
 },
 "nbformat": 4,
 "nbformat_minor": 5
}
